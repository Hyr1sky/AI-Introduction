{
 "cells": [
  {
   "cell_type": "markdown",
   "id": "7bc70848",
   "metadata": {},
   "source": [
    "# 2.2 基于 python 的常见数据处理"
   ]
  },
  {
   "cell_type": "markdown",
   "id": "76348f0e",
   "metadata": {},
   "source": [
    "通常人们要处理的数据有很多，可使用 python 中的列表、元组、字典、集合等不同数 据类型进行存储。例如："
   ]
  },
  {
   "cell_type": "code",
   "execution_count": 3,
   "id": "b3bee1fa",
   "metadata": {},
   "outputs": [
    {
     "data": {
      "text/plain": [
       "list"
      ]
     },
     "execution_count": 3,
     "metadata": {},
     "output_type": "execute_result"
    }
   ],
   "source": [
    "type([1,2,1])"
   ]
  },
  {
   "cell_type": "code",
   "execution_count": 4,
   "id": "82c7b742",
   "metadata": {},
   "outputs": [
    {
     "data": {
      "text/plain": [
       "tuple"
      ]
     },
     "execution_count": 4,
     "metadata": {},
     "output_type": "execute_result"
    }
   ],
   "source": [
    "type((1,2,1))"
   ]
  },
  {
   "cell_type": "code",
   "execution_count": 5,
   "id": "d4b6e4cd",
   "metadata": {},
   "outputs": [
    {
     "data": {
      "text/plain": [
       "dict"
      ]
     },
     "execution_count": 5,
     "metadata": {},
     "output_type": "execute_result"
    }
   ],
   "source": [
    "type({'a':1,'b':2,'c':1})"
   ]
  },
  {
   "cell_type": "code",
   "execution_count": 6,
   "id": "002914c6",
   "metadata": {},
   "outputs": [
    {
     "data": {
      "text/plain": [
       "set"
      ]
     },
     "execution_count": 6,
     "metadata": {},
     "output_type": "execute_result"
    }
   ],
   "source": [
    "type(set([1,2,1]))"
   ]
  },
  {
   "cell_type": "markdown",
   "id": "006e00a0",
   "metadata": {},
   "source": [
    "## 2.2.1 列表索引\n",
    "\n",
    "列表的元素不需要具有相同的类型，创建一个列表，只要把逗号分隔的不同的数据项使用方括号括起来即可。列表也可以作为另一个列表的数据项。列表举例如下："
   ]
  },
  {
   "cell_type": "code",
   "execution_count": 7,
   "id": "096e8119",
   "metadata": {},
   "outputs": [],
   "source": [
    "list1 = ['physics', 'chemistry', 1997, 2000] \n",
    "list2 = [1, 2, 3, 4, 5 ]\n",
    "list3 = [\"a\", \"b\", \"c\", \"d\"] \n",
    "list4 = [[1, 2, 3], [4, 5, 6]] #相当于 2 行 2 列的二维数组"
   ]
  },
  {
   "cell_type": "markdown",
   "id": "c05b0032",
   "metadata": {},
   "source": [
    "列表可以进行索引、切片、加、乘、检查成员、组合等操作。\n",
    "列表中的每个元素都有一个位置，或称为索引，第一个索引是 0，第二个索引是 1，依此类推，这种索引方法称为正向索引。例如："
   ]
  },
  {
   "cell_type": "code",
   "execution_count": 8,
   "id": "fdd3a7b1",
   "metadata": {},
   "outputs": [
    {
     "data": {
      "text/plain": [
       "('physics', 2000)"
      ]
     },
     "execution_count": 8,
     "metadata": {},
     "output_type": "execute_result"
    }
   ],
   "source": [
    "list1 = ['physics', 'chemistry', 1997, 2000]\n",
    "list1[0],list1[3] #分别取第 1 个和第 4 个元素"
   ]
  },
  {
   "cell_type": "markdown",
   "id": "565da2d0",
   "metadata": {},
   "source": [
    "除了正向索引外，列表还有负向索引（有时称为反向索引），其索引方式为最后一个元素的索引为-1，倒数第二个为-2，以此类推。例如："
   ]
  },
  {
   "cell_type": "code",
   "execution_count": 7,
   "id": "4b92b5d1",
   "metadata": {},
   "outputs": [
    {
     "data": {
      "text/plain": [
       "(2000, 'chemistry')"
      ]
     },
     "execution_count": 7,
     "metadata": {},
     "output_type": "execute_result"
    }
   ],
   "source": [
    "list1 = ['physics', 'chemistry', 1997, 2000]\n",
    "list1[-1],list1[-3] ##分别取第 4 个和第 2 个的元素"
   ]
  },
  {
   "cell_type": "markdown",
   "id": "7715f8b9",
   "metadata": {},
   "source": [
    "## 2.2.2 列表切片\n",
    "\n",
    "list 为列表对象，start 是切片起点索引，end 是切片终点索引，但切片结果不包括终点 索引的值。step 是步长。"
   ]
  },
  {
   "cell_type": "code",
   "execution_count": 17,
   "id": "6058d586",
   "metadata": {},
   "outputs": [
    {
     "data": {
      "text/plain": [
       "['physics', 'chemistry', 1997]"
      ]
     },
     "execution_count": 17,
     "metadata": {},
     "output_type": "execute_result"
    }
   ],
   "source": [
    "list1 = ['physics', 'chemistry', 1997, 2000]\n",
    "list1[0:-1:1]"
   ]
  },
  {
   "cell_type": "code",
   "execution_count": 9,
   "id": "02a30fb3",
   "metadata": {},
   "outputs": [
    {
     "data": {
      "text/plain": [
       "['physics']"
      ]
     },
     "execution_count": 9,
     "metadata": {},
     "output_type": "execute_result"
    }
   ],
   "source": [
    "list1[0:-1:3]"
   ]
  },
  {
   "cell_type": "code",
   "execution_count": 10,
   "id": "e3d2dc9d",
   "metadata": {},
   "outputs": [
    {
     "data": {
      "text/plain": [
       "['physics', 1997]"
      ]
     },
     "execution_count": 10,
     "metadata": {},
     "output_type": "execute_result"
    }
   ],
   "source": [
    "list1[0:100:2] #切片终点索引的值超出索引最大值，则按索引最大值+1 处理"
   ]
  },
  {
   "cell_type": "markdown",
   "id": "a6d73af6",
   "metadata": {},
   "source": [
    "若 step 为负数，表示从后往前选取元素生成新列表对象，此时起始索引应在终点索引 之后，否则返回空列表。例如："
   ]
  },
  {
   "cell_type": "code",
   "execution_count": 11,
   "id": "79e6c845",
   "metadata": {},
   "outputs": [
    {
     "data": {
      "text/plain": [
       "[2000, 1997, 'chemistry']"
      ]
     },
     "execution_count": 11,
     "metadata": {},
     "output_type": "execute_result"
    }
   ],
   "source": [
    "list1 = ['physics', 'chemistry', 1997, 2000]\n",
    "list1[-1:0:-1]"
   ]
  },
  {
   "cell_type": "code",
   "execution_count": 12,
   "id": "c0097cda",
   "metadata": {},
   "outputs": [
    {
     "data": {
      "text/plain": [
       "[]"
      ]
     },
     "execution_count": 12,
     "metadata": {},
     "output_type": "execute_result"
    }
   ],
   "source": [
    "list1[0:-1:-1] #step 为-1，但起始索引在终点索引前"
   ]
  },
  {
   "cell_type": "markdown",
   "id": "9998c296",
   "metadata": {},
   "source": [
    "切片中的三个参数 start、end 和 step 均可省略若 step 省略，默认是 1，此时前面的冒号也可以省略。当 step 为正数时，若 start 省略，默认为 0，若 end 省略，默认为索引最大值 +1。当 step 为负数时，若 start 省略，默认为-1，若 end 省略，默认为初始元素的前一个位 置。以下给出一些操作举例："
   ]
  },
  {
   "cell_type": "code",
   "execution_count": 13,
   "id": "df000008",
   "metadata": {},
   "outputs": [
    {
     "data": {
      "text/plain": [
       "[1, 2, 3, 4, 5, 6, 7, 8, 9]"
      ]
     },
     "execution_count": 13,
     "metadata": {},
     "output_type": "execute_result"
    }
   ],
   "source": [
    "list2 = [1, 2, 3, 4, 5, 6, 7, 8, 9 ]\n",
    "list2[::] #就是原来的列表"
   ]
  },
  {
   "cell_type": "code",
   "execution_count": 14,
   "id": "68a45e25",
   "metadata": {},
   "outputs": [
    {
     "data": {
      "text/plain": [
       "[2, 3, 4, 5, 6, 7, 8, 9]"
      ]
     },
     "execution_count": 14,
     "metadata": {},
     "output_type": "execute_result"
    }
   ],
   "source": [
    "list2[1:] #从第二个元素到最后元素"
   ]
  },
  {
   "cell_type": "code",
   "execution_count": 15,
   "id": "56036505",
   "metadata": {},
   "outputs": [
    {
     "data": {
      "text/plain": [
       "[1, 2, 3, 4, 5, 6, 7, 8]"
      ]
     },
     "execution_count": 15,
     "metadata": {},
     "output_type": "execute_result"
    }
   ],
   "source": [
    "list2[:-1] #从第 1 个元素到倒数第 2 个元素"
   ]
  },
  {
   "cell_type": "code",
   "execution_count": 16,
   "id": "9ba6e39f",
   "metadata": {},
   "outputs": [
    {
     "data": {
      "text/plain": [
       "[1, 3, 5, 7]"
      ]
     },
     "execution_count": 16,
     "metadata": {},
     "output_type": "execute_result"
    }
   ],
   "source": [
    "list2[:-1:2] #从第 1 个元素到倒数第 2 个元素，隔一个取一个元素"
   ]
  },
  {
   "cell_type": "code",
   "execution_count": 17,
   "id": "1820bac4",
   "metadata": {},
   "outputs": [
    {
     "data": {
      "text/plain": [
       "[1, 3, 5, 7, 9]"
      ]
     },
     "execution_count": 17,
     "metadata": {},
     "output_type": "execute_result"
    }
   ],
   "source": [
    "list2[::2] #从第 1 个元素到最后 1 个元素，隔一个取一个元素"
   ]
  },
  {
   "cell_type": "code",
   "execution_count": 18,
   "id": "c4c69da1",
   "metadata": {},
   "outputs": [
    {
     "data": {
      "text/plain": [
       "[9, 8, 7, 6, 5, 4, 3, 2, 1]"
      ]
     },
     "execution_count": 18,
     "metadata": {},
     "output_type": "execute_result"
    }
   ],
   "source": [
    "list2[::-1] #所有元素反序"
   ]
  },
  {
   "cell_type": "markdown",
   "id": "b1d5357c",
   "metadata": {},
   "source": [
    "## 2.2.3 列表推导式 \n",
    "\n",
    "列表推导式是 Python 构建列表的一种快捷方式，可以使用简洁的代码创建出一个列表。 例如："
   ]
  },
  {
   "cell_type": "code",
   "execution_count": 19,
   "id": "e7a48055",
   "metadata": {},
   "outputs": [
    {
     "data": {
      "text/plain": [
       "[0, 1, 2, 3, 4, 5, 6, 7, 8, 9]"
      ]
     },
     "execution_count": 19,
     "metadata": {},
     "output_type": "execute_result"
    }
   ],
   "source": [
    "list1=[i for i in range(10)] #生成含有 10 个元素的列表\n",
    "list1"
   ]
  },
  {
   "cell_type": "code",
   "execution_count": 20,
   "id": "481888ab",
   "metadata": {},
   "outputs": [
    {
     "data": {
      "text/plain": [
       "[1, 2, 3, 4, 5, 6, 7, 8, 9]"
      ]
     },
     "execution_count": 20,
     "metadata": {},
     "output_type": "execute_result"
    }
   ],
   "source": [
    "[i for i in range(10) if i%2==0] #生成仅有值为偶数的元素列表\n",
    "list2"
   ]
  },
  {
   "cell_type": "code",
   "execution_count": 21,
   "id": "be0a861f",
   "metadata": {},
   "outputs": [
    {
     "data": {
      "text/plain": [
       "[0, 100, 2, 300, 4, 500, 6, 700, 8, 900]"
      ]
     },
     "execution_count": 21,
     "metadata": {},
     "output_type": "execute_result"
    }
   ],
   "source": [
    "[i if i%2==0 else i*100 for i in list1 ] #所有的奇数元素都乘以 100"
   ]
  },
  {
   "cell_type": "code",
   "execution_count": 22,
   "id": "e281a529",
   "metadata": {},
   "outputs": [
    {
     "data": {
      "text/plain": [
       "[0, -1, 20, -1, 40, -1, 60, -1, 80, -1]"
      ]
     },
     "execution_count": 22,
     "metadata": {},
     "output_type": "execute_result"
    }
   ],
   "source": [
    "[i*10 if i%2==0 else -1 for i in list1 ] #所有的偶数元素都乘以 10，所有的奇数元 素都置为-1"
   ]
  },
  {
   "cell_type": "markdown",
   "id": "d2b2abb9",
   "metadata": {},
   "source": [
    "## 2.2.4列表与字典、字符串的转换\n",
    "\n",
    "(1）列表与字典的转换"
   ]
  },
  {
   "cell_type": "code",
   "execution_count": 23,
   "id": "56973a40",
   "metadata": {},
   "outputs": [
    {
     "data": {
      "text/plain": [
       "{'key1': '1', 'key2': '2', 'key3': '3'}"
      ]
     },
     "execution_count": 23,
     "metadata": {},
     "output_type": "execute_result"
    }
   ],
   "source": [
    "list1 = ['key1','key2','key3']\n",
    "list2 = ['1','2','3']\n",
    "dict(zip(list1,list2))"
   ]
  },
  {
   "cell_type": "markdown",
   "id": "51760824",
   "metadata": {},
   "source": [
    "字典的所有键集合和值集合也可以分别转换为列表。例如："
   ]
  },
  {
   "cell_type": "code",
   "execution_count": 24,
   "id": "c80ce387",
   "metadata": {},
   "outputs": [
    {
     "data": {
      "text/plain": [
       "{'key1': '1', 'key2': '2', 'key3': '3'}"
      ]
     },
     "execution_count": 24,
     "metadata": {},
     "output_type": "execute_result"
    }
   ],
   "source": [
    "d=dict(zip(list1,list2))\n",
    "d"
   ]
  },
  {
   "cell_type": "code",
   "execution_count": 25,
   "id": "0ee48e45",
   "metadata": {},
   "outputs": [
    {
     "data": {
      "text/plain": [
       "['key1', 'key2', 'key3']"
      ]
     },
     "execution_count": 25,
     "metadata": {},
     "output_type": "execute_result"
    }
   ],
   "source": [
    "list(d) #得到键集合列表"
   ]
  },
  {
   "cell_type": "code",
   "execution_count": 26,
   "id": "4f743b97",
   "metadata": {},
   "outputs": [
    {
     "data": {
      "text/plain": [
       "dict_keys(['key1', 'key2', 'key3'])"
      ]
     },
     "execution_count": 26,
     "metadata": {},
     "output_type": "execute_result"
    }
   ],
   "source": [
    "d.keys() #查看键集合，注意返回的不是 list 对象"
   ]
  },
  {
   "cell_type": "code",
   "execution_count": 27,
   "id": "a97d850d",
   "metadata": {},
   "outputs": [
    {
     "data": {
      "text/plain": [
       "['key1', 'key2', 'key3']"
      ]
     },
     "execution_count": 27,
     "metadata": {},
     "output_type": "execute_result"
    }
   ],
   "source": [
    "list(d.keys()) #得到键集合列表，与 list(d)等价"
   ]
  },
  {
   "cell_type": "code",
   "execution_count": 28,
   "id": "e9c565df",
   "metadata": {},
   "outputs": [
    {
     "data": {
      "text/plain": [
       "['1', '2', '3']"
      ]
     },
     "execution_count": 28,
     "metadata": {},
     "output_type": "execute_result"
    }
   ],
   "source": [
    "list(d.values()) #得到值集合列表"
   ]
  },
  {
   "cell_type": "markdown",
   "id": "7ccb022d",
   "metadata": {},
   "source": [
    "（2）列表与字符串的转换"
   ]
  },
  {
   "cell_type": "code",
   "execution_count": 29,
   "id": "edee7d9f",
   "metadata": {},
   "outputs": [
    {
     "data": {
      "text/plain": [
       "'key1,key2,key3'"
      ]
     },
     "execution_count": 29,
     "metadata": {},
     "output_type": "execute_result"
    }
   ],
   "source": [
    "list1 = ['key1','key2','key3']\n",
    "','.join(list1) #引号内的字符串为连接各个元素时用的符号"
   ]
  },
  {
   "cell_type": "code",
   "execution_count": 30,
   "id": "878283ce",
   "metadata": {},
   "outputs": [
    {
     "data": {
      "text/plain": [
       "['key1', 'key2', 'key3']"
      ]
     },
     "execution_count": 30,
     "metadata": {},
     "output_type": "execute_result"
    }
   ],
   "source": [
    "d = 'key1,key2,key3'\n",
    "d.split(',') #使用 split 函数对 d 进行分割，将‘,’作为分隔符，返回列表"
   ]
  },
  {
   "cell_type": "code",
   "execution_count": 31,
   "id": "0d62ac3e",
   "metadata": {},
   "outputs": [
    {
     "data": {
      "text/plain": [
       "['A', 'B', 'C', 'D']"
      ]
     },
     "execution_count": 31,
     "metadata": {},
     "output_type": "execute_result"
    }
   ],
   "source": [
    "a = 'ABCD'\n",
    "list(a) #将字符串每个字符进行分隔，返回列表"
   ]
  },
  {
   "cell_type": "markdown",
   "id": "2e2a4c51",
   "metadata": {},
   "source": [
    "## 2.2.5 列表的其他常见操作\n",
    "\n",
    "（1）求列表长度"
   ]
  },
  {
   "cell_type": "code",
   "execution_count": 32,
   "id": "d49002da",
   "metadata": {},
   "outputs": [
    {
     "name": "stdout",
     "output_type": "stream",
     "text": [
      "5\n"
     ]
    }
   ],
   "source": [
    "list1 = [[1,2],[3,4],7,8,9]\n",
    "print(len(list1))"
   ]
  },
  {
   "cell_type": "markdown",
   "id": "6a71de02",
   "metadata": {},
   "source": [
    "（2）列表连接（+运算符）"
   ]
  },
  {
   "cell_type": "code",
   "execution_count": 33,
   "id": "c9687c04",
   "metadata": {},
   "outputs": [
    {
     "data": {
      "text/plain": [
       "[1, 2, 3, 4, 7, 8, 9]"
      ]
     },
     "execution_count": 33,
     "metadata": {},
     "output_type": "execute_result"
    }
   ],
   "source": [
    "list1 = [1, 2, 3, 4]\n",
    "list2 = [7,8,9]\n",
    "list1+list2"
   ]
  },
  {
   "cell_type": "code",
   "execution_count": 34,
   "id": "245c594c",
   "metadata": {},
   "outputs": [
    {
     "data": {
      "text/plain": [
       "[1, 2, 3, 4, 5, 6]"
      ]
     },
     "execution_count": 34,
     "metadata": {},
     "output_type": "execute_result"
    }
   ],
   "source": [
    "list1 += [5,6]\n",
    "list1"
   ]
  },
  {
   "cell_type": "markdown",
   "id": "f94403c4",
   "metadata": {},
   "source": [
    "（3）列表重复（*运算符）"
   ]
  },
  {
   "cell_type": "code",
   "execution_count": 35,
   "id": "0a57f4c2",
   "metadata": {},
   "outputs": [
    {
     "data": {
      "text/plain": [
       "[1, 'hi', 1, 'hi', 1, 'hi']"
      ]
     },
     "execution_count": 35,
     "metadata": {},
     "output_type": "execute_result"
    }
   ],
   "source": [
    "list1 = [1,\"hi\"]\n",
    "list1 * 3 #list1 所有元素重复 3 次"
   ]
  },
  {
   "cell_type": "code",
   "execution_count": 36,
   "id": "d22c94a2",
   "metadata": {},
   "outputs": [
    {
     "data": {
      "text/plain": [
       "[1, 'hi', 1, 'hi', 1, 'hi']"
      ]
     },
     "execution_count": 36,
     "metadata": {},
     "output_type": "execute_result"
    }
   ],
   "source": [
    "3 * list1 #与 list1 * 3 等价"
   ]
  },
  {
   "cell_type": "markdown",
   "id": "4ac5189b",
   "metadata": {},
   "source": [
    "（4）判断元素是否在列表中（成员运算符 in 、not in）"
   ]
  },
  {
   "cell_type": "code",
   "execution_count": 37,
   "id": "4dfc09a9",
   "metadata": {},
   "outputs": [
    {
     "name": "stdout",
     "output_type": "stream",
     "text": [
      "True\n",
      "False\n",
      "False\n",
      "True\n"
     ]
    }
   ],
   "source": [
    "list1 = ['a','b','c']\n",
    "print('a' in list1)\n",
    "print('d' in list1)\n",
    "print('a' not in list1)\n",
    "print('d' not in list1)"
   ]
  },
  {
   "cell_type": "markdown",
   "id": "5538beee",
   "metadata": {},
   "source": [
    "（5）用作可迭代对象"
   ]
  },
  {
   "cell_type": "code",
   "execution_count": 38,
   "id": "b3e50ffa",
   "metadata": {},
   "outputs": [
    {
     "name": "stdout",
     "output_type": "stream",
     "text": [
      "1 hi "
     ]
    }
   ],
   "source": [
    "list1 = [1, 'hi']\n",
    "for i in list1: #每次循环，i 表示 lst 的一个元素\n",
    "    print(i, end=' ')"
   ]
  },
  {
   "cell_type": "code",
   "execution_count": null,
   "id": "2a95e71d",
   "metadata": {},
   "outputs": [],
   "source": []
  }
 ],
 "metadata": {
  "kernelspec": {
   "display_name": "Python 3",
   "language": "python",
   "name": "python3"
  },
  "language_info": {
   "codemirror_mode": {
    "name": "ipython",
    "version": 3
   },
   "file_extension": ".py",
   "mimetype": "text/x-python",
   "name": "python",
   "nbconvert_exporter": "python",
   "pygments_lexer": "ipython3",
   "version": "3.9.12"
  }
 },
 "nbformat": 4,
 "nbformat_minor": 5
}
