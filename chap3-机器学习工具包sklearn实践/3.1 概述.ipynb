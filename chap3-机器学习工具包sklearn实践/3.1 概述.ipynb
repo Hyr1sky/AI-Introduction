{
 "cells": [
  {
   "cell_type": "markdown",
   "id": "a5604a6c",
   "metadata": {},
   "source": [
    "# 3.1 概述"
   ]
  },
  {
   "cell_type": "markdown",
   "id": "58acc61b",
   "metadata": {},
   "source": [
    "Scikit-learn（简称sklearn）是基于Python语言的机器学习工具包，它建立在Numpy、SciPy和Matplotlib等Python第三方库之上，集成了大量的数据挖掘和数据分析的功能类和函数，易于调用，使用简单高效，是目前最为流行的机器学习软件库之一。\n",
    "\n",
    "我们在安装anaconda时，sklearn自动内置默认安装。当然也可以使用pip或conda命令单独安装，在此不做介绍。需要注意的是，sklearn的版本通常需要与Python、NumPy、SciPy、joblib等依赖包的版本相适配。\n",
    "\n",
    "在使用sklearn时，首先要导入该工具包。例如在原始Python环境中，执行：\n"
   ]
  },
  {
   "cell_type": "code",
   "execution_count": 3,
   "id": "72b0be51",
   "metadata": {},
   "outputs": [],
   "source": [
    "import sklearn"
   ]
  },
  {
   "cell_type": "markdown",
   "id": "78446f90",
   "metadata": {},
   "source": [
    "也可以从sklearn包中导入某个模块，或从其某个模块中导入某个类。例如："
   ]
  },
  {
   "cell_type": "code",
   "execution_count": 4,
   "id": "267cb682",
   "metadata": {},
   "outputs": [],
   "source": [
    "from sklearn import preprocessing\n",
    "from sklearn.impute import SimpleImputer"
   ]
  }
 ],
 "metadata": {
  "kernelspec": {
   "display_name": "Python 3 (ipykernel)",
   "language": "python",
   "name": "python3"
  },
  "language_info": {
   "codemirror_mode": {
    "name": "ipython",
    "version": 3
   },
   "file_extension": ".py",
   "mimetype": "text/x-python",
   "name": "python",
   "nbconvert_exporter": "python",
   "pygments_lexer": "ipython3",
   "version": "3.9.12"
  }
 },
 "nbformat": 4,
 "nbformat_minor": 5
}
