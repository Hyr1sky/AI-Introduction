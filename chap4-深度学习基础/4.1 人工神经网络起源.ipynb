{
 "cells": [
  {
   "cell_type": "markdown",
   "id": "d8b50ba2",
   "metadata": {},
   "source": [
    "# 4.1 人工神经网络起源"
   ]
  },
  {
   "cell_type": "markdown",
   "id": "9e82f878",
   "metadata": {},
   "source": [
    "## 4.1.2 感知器模型\n",
    "\n",
    "感知器模型的学习算法主要是在发现分类错误时，通过输入值xi和预期输出结果yi来不断迭代调整各个权值。一旦所有训练样本全部分类正确，则w学习完成，可直接通过wx+b的正负来对预测新样本x的类别。\n",
    "\n",
    "这个过程可用如下python代码进行验证。"
   ]
  },
  {
   "cell_type": "code",
   "execution_count": 1,
   "id": "4da31b7b",
   "metadata": {},
   "outputs": [
    {
     "name": "stdout",
     "output_type": "stream",
     "text": [
      "w: [0.3488135  0.71518937 0.60276338]\n",
      "w: [0.1488135  0.71518937 0.60276338]\n",
      "w: [-0.0511865   0.71518937  0.60276338]\n",
      "result: [-0.0511865   0.55157688  1.26676625  0.66400287]\n"
     ]
    }
   ],
   "source": [
    "import numpy as np\n",
    "x = np.array([[0,0],[0,1],[1,1],[1,0]])  # 输入样本特征\n",
    "y = [-1,1,1,1]  # 类别标签\n",
    "np.random.seed(0)\n",
    "w = np.random.rand(3)\n",
    "change = True\n",
    "rate = 0.2  # 学习率\n",
    "X = np.hstack((np.ones(4).reshape(4,1), x))  #添加x0\n",
    "while (change):\n",
    "    change = False\n",
    "    for i in range(4):\n",
    "        if (y[i] * np.sign(np.dot(w, X[i]))<0):\n",
    "            w = w + rate * y[i] * X[i]\n",
    "            change = True\n",
    "            print('w:', w)  # 打印更新后的权值\n",
    "print ('result:', np.dot(X, w))  # 打印激活函数的输入"
   ]
  },
  {
   "cell_type": "markdown",
   "id": "7ca3d688",
   "metadata": {},
   "source": [
    "分析结果可以看到，w经过三次更新，便可以完成学习过程。最后一行的结果为激活函数的输入值，而激活是符号函数，因此经过符号函数后，便与设定的类别标签完全一致。"
   ]
  }
 ],
 "metadata": {
  "kernelspec": {
   "display_name": "Python 3",
   "language": "python",
   "name": "python3"
  },
  "language_info": {
   "codemirror_mode": {
    "name": "ipython",
    "version": 3
   },
   "file_extension": ".py",
   "mimetype": "text/x-python",
   "name": "python",
   "nbconvert_exporter": "python",
   "pygments_lexer": "ipython3",
   "version": "3.8.8"
  }
 },
 "nbformat": 4,
 "nbformat_minor": 5
}
